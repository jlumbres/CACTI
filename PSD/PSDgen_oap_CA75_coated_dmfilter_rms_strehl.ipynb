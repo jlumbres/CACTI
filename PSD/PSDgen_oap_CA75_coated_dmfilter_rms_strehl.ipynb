{
 "cells": [
  {
   "cell_type": "code",
   "execution_count": 1,
   "metadata": {
    "scrolled": true
   },
   "outputs": [
    {
     "data": {
      "text/html": [
       "<style>.container { width:100% !important; }</style>"
      ],
      "text/plain": [
       "<IPython.core.display.HTML object>"
      ]
     },
     "metadata": {},
     "output_type": "display_data"
    }
   ],
   "source": [
    "%reload_ext autoreload\n",
    "%autoreload 2\n",
    "%matplotlib inline\n",
    "#load modules\n",
    "import numpy as np\n",
    "from astropy import units as u\n",
    "from astropy.io import fits\n",
    "\n",
    "# import personal code\n",
    "from model_kit import psd_functions as psd\n",
    "from model_kit import datafiles as dfx\n",
    "\n",
    "from IPython.core.display import display, HTML\n",
    "display(HTML(\"<style>.container { width:100% !important; }</style>\"))\n",
    "#print('This notebook is not stale yet!')"
   ]
  },
  {
   "cell_type": "code",
   "execution_count": 2,
   "metadata": {},
   "outputs": [
    {
     "name": "stdout",
     "output_type": "stream",
     "text": [
      "PSD for OAP A complete\n",
      "PSD for OAP B complete\n",
      "PSD for OAP C complete\n",
      "PSD for OAP D complete\n",
      "PSD for OAP E complete\n",
      "PSD for OAP F complete\n",
      "PSD for OAP AVG complete\n",
      "CPU times: user 22.5 s, sys: 7.42 s, total: 29.9 s\n",
      "Wall time: 18.8 s\n"
     ]
    }
   ],
   "source": [
    "%%time\n",
    "opt_parms = { 'ovs': 4096,\n",
    "             'surf_units': u.micron,\n",
    "             'ca': 75,\n",
    "             'ring_width': 3,\n",
    "             'kmid_ll': 100/u.m, #0.1/u.mm,\n",
    "             'khigh_ll': 1000/u.m} #1/u.mm}\n",
    "\n",
    "parent_dir = '/home/jhen/XWCL/code/CACTI/'\n",
    "data_folder = parent_dir + 'zygo_data/OAP_coated/'\n",
    "oap_labels =  ('A', 'B', 'C', 'D', 'E', 'F')#, 'G', 'H')\n",
    "oap=[]\n",
    "\n",
    "for surface_name in oap_labels:\n",
    "    n_step = 'OAP {0}'.format(surface_name)\n",
    "    file_loc=data_folder+'oap{0}_{1}CA'.format(surface_name, opt_parms['ca'])\n",
    "    # create the object\n",
    "    opt = psd.surfPSD(surf_name = n_step)\n",
    "    opt.open_surf(fileloc=file_loc+'_surf.fits', \n",
    "                  surf_units = opt_parms['surf_units'])\n",
    "    opt.open_mask(fileloc=file_loc+'_mask.fits')\n",
    "    opt.calc_psd(oversamp = opt_parms['ovs'], \n",
    "                 kmid_ll=opt_parms['kmid_ll'], \n",
    "                 khigh_ll=opt_parms['khigh_ll'])\n",
    "    print('PSD for {0} complete'.format(n_step))\n",
    "    oap.append(opt)\n",
    "    # only calculating 2D PSD instead of radial because radial is slow and not needed for RMS"
   ]
  },
  {
   "cell_type": "markdown",
   "metadata": {},
   "source": [
    "### Calculate rms: beam diameter, DM correction\n",
    "RMS values are for surface (on-axis) and OAP angle adjustment with reflection (basically, OPD)."
   ]
  },
  {
   "cell_type": "code",
   "execution_count": 3,
   "metadata": {},
   "outputs": [],
   "source": [
    "def calc_strehl(rms_tot, wavelen):\n",
    "    rms_tot = rms_tot.to(wavelen.unit)\n",
    "    return np.exp(-(rms_tot.value*2*np.pi/wavelen.value)**2)"
   ]
  },
  {
   "cell_type": "code",
   "execution_count": 4,
   "metadata": {},
   "outputs": [
    {
     "name": "stdout",
     "output_type": "stream",
     "text": [
      "Evaluating OAP A\n",
      "Evaluating OAP B\n",
      "Evaluating OAP C\n",
      "Evaluating OAP D\n",
      "Evaluating OAP E\n",
      "Evaluating OAP F\n",
      "CPU times: user 50.7 s, sys: 18.4 s, total: 1min 9s\n",
      "Wall time: 45.3 s\n"
     ]
    }
   ],
   "source": [
    "%%time\n",
    "oap_angle = 23*u.deg # full angle\n",
    "angle_scale = 2/np.cos(oap_angle/2) # go based on half angle\n",
    "beam_diam = 0.0075*u.m # 7.5mm beam diamter\n",
    "n_act_min = 12\n",
    "n_act_max = 26\n",
    "n_act_diam_list = np.linspace(n_act_min, n_act_max,\n",
    "                              (n_act_max-n_act_min) + 1,\n",
    "                              endpoint=True)\n",
    "\n",
    "# step through each number of actuators across the surface\n",
    "dm_rms = np.zeros((len(oap), len(n_act_diam_list)))\n",
    "for j_oap in range(0, len(oap)):\n",
    "    print('Evaluating {0}'.format(oap[j_oap].surf_name))\n",
    "    kmax = oap[j_oap].k_max\n",
    "    for j_act in range(0, len(n_act_diam_list)):\n",
    "        bw_dm = n_act_diam_list[j_act]/(2*beam_diam)\n",
    "        rms_val = psd.do_psd_rms(psd_data=oap[j_oap].psd_cal, \n",
    "                                 delta_k=oap[j_oap].delta_k, \n",
    "                                 k_tgt_lim=[bw_dm, kmax], \n",
    "                                 print_rms=False)\n",
    "        # rms_val outputs as nanometers, but is removed for data storage\n",
    "        dm_rms[j_oap][j_act] = rms_val.value * angle_scale # scaled for OAP angle and reflection"
   ]
  },
  {
   "cell_type": "code",
   "execution_count": 7,
   "metadata": {},
   "outputs": [
    {
     "name": "stdout",
     "output_type": "stream",
     "text": [
      "N=12.0, sigma=28.340, SR = 0.924\n",
      "N=13.0, sigma=26.916, SR = 0.931\n",
      "N=14.0, sigma=25.735, SR = 0.937\n",
      "N=15.0, sigma=24.302, SR = 0.943\n",
      "N=16.0, sigma=23.206, SR = 0.948\n",
      "N=17.0, sigma=22.397, SR = 0.952\n",
      "N=18.0, sigma=21.604, SR = 0.955\n",
      "N=19.0, sigma=20.904, SR = 0.958\n",
      "N=20.0, sigma=20.199, SR = 0.961\n",
      "N=21.0, sigma=19.533, SR = 0.963\n",
      "N=22.0, sigma=18.956, SR = 0.965\n",
      "N=23.0, sigma=18.384, SR = 0.967\n",
      "N=24.0, sigma=17.835, SR = 0.969\n",
      "N=25.0, sigma=17.315, SR = 0.971\n",
      "N=26.0, sigma=16.801, SR = 0.973\n"
     ]
    }
   ],
   "source": [
    "# calculate the strehls\n",
    "wavelen = 633*u.nm\n",
    "rms_bmc1k = 3*u.nm\n",
    "\n",
    "# for dm_rms, the rows are every OAP\n",
    "# the column is every DM actuator diamter count\n",
    "# so, sum up according to each column.\n",
    "\n",
    "tot_rms = np.zeros(len(n_act_diam_list))\n",
    "sr = np.zeros_like(tot_rms)\n",
    "for j in range(0, len(n_act_diam_list)):\n",
    "    oap_rms = np.sum(dm_rms[:,j])\n",
    "    tot_rms[j] = oap_rms + rms_bmc1k.value\n",
    "    sr[j] = calc_strehl(tot_rms[j]*rms_bmc1k.unit, wavelen)\n",
    "    print('N={0}, sigma={1:.3f}, SR = {2:.3f}'.format(n_act_diam_list[j], tot_rms[j], sr[j]))"
   ]
  },
  {
   "cell_type": "markdown",
   "metadata": {},
   "source": [
    "Since 13 actuators produced 0.93 Strehl that matches Kyle's estimation, then go off that for all the rms values."
   ]
  },
  {
   "cell_type": "code",
   "execution_count": 9,
   "metadata": {},
   "outputs": [
    {
     "name": "stdout",
     "output_type": "stream",
     "text": [
      "Cutoff Frequencies\n",
      "K_beam = 133.333 1 / m\n",
      "K_DM = 866.667 1 / m\n",
      "------\n",
      "optic: OAP A\n",
      "RMS (CA): 19.399 nm\n",
      "RMS (beam, on-axis): 11.570 nm\n",
      "RMS (beam, refl. angle): 23.614 nm\n",
      "RMS (DM, on-axis): 1.552 nm\n",
      "RMS (DM, refl. angle): 3.168 nm\n",
      "-----\n",
      "optic: OAP B\n",
      "RMS (CA): 21.405 nm\n",
      "RMS (beam, on-axis): 9.805 nm\n",
      "RMS (beam, refl. angle): 20.012 nm\n",
      "RMS (DM, on-axis): 1.970 nm\n",
      "RMS (DM, refl. angle): 4.021 nm\n",
      "-----\n",
      "optic: OAP C\n",
      "RMS (CA): 21.625 nm\n",
      "RMS (beam, on-axis): 14.221 nm\n",
      "RMS (beam, refl. angle): 29.025 nm\n",
      "RMS (DM, on-axis): 1.586 nm\n",
      "RMS (DM, refl. angle): 3.236 nm\n",
      "-----\n",
      "optic: OAP D\n",
      "RMS (CA): 18.922 nm\n",
      "RMS (beam, on-axis): 8.955 nm\n",
      "RMS (beam, refl. angle): 18.277 nm\n",
      "RMS (DM, on-axis): 1.799 nm\n",
      "RMS (DM, refl. angle): 3.672 nm\n",
      "-----\n",
      "optic: OAP E\n",
      "RMS (CA): 24.995 nm\n",
      "RMS (beam, on-axis): 13.908 nm\n",
      "RMS (beam, refl. angle): 28.386 nm\n",
      "RMS (DM, on-axis): 2.659 nm\n",
      "RMS (DM, refl. angle): 5.428 nm\n",
      "-----\n",
      "optic: OAP F\n",
      "RMS (CA): 24.198 nm\n",
      "RMS (beam, on-axis): 10.015 nm\n",
      "RMS (beam, refl. angle): 20.441 nm\n",
      "RMS (DM, on-axis): 2.152 nm\n",
      "RMS (DM, refl. angle): 4.392 nm\n",
      "-----\n",
      "RMS tot (beam) = 142.7544 nm\n",
      "SR (beam) = 0.1343\n",
      "--\n",
      "RMS tot (DM) = 26.9163 nm\n",
      "SR (DM) = 0.9311\n"
     ]
    }
   ],
   "source": [
    "# now look at all the rms values\n",
    "n_act_diam = 13 # solved previously\n",
    "beam_diam = 0.0075*u.m # 7.5mm beam diameter\n",
    "bw_beam = 1/beam_diam\n",
    "bw_dm = n_act_diam/(2*beam_diam)\n",
    "\n",
    "oap_angle = 23*u.deg # full angle\n",
    "angle_scale = 2/np.cos(oap_angle/2) # go based on half angle\n",
    "\n",
    "print('Cutoff Frequencies')\n",
    "print('K_beam = {0:.3f}'.format(bw_beam))\n",
    "print('K_DM = {0:.3f}'.format(bw_dm))\n",
    "print('------')\n",
    "\n",
    "tot_rms_beam = 0;\n",
    "tot_rms_dm = 0;\n",
    "for j in range(0, len(oap)):\n",
    "    kmax = oap[j].k_max\n",
    "    print('optic: {0}'.format(oap[j].surf_name))\n",
    "    print('RMS (CA): {0:.3f}'.format(oap[j].rms_tot))\n",
    "    #print('kmin={1:.4f}'.format(beam_diam[j], kmin))\n",
    "    rms_val = psd.do_psd_rms(psd_data=oap[j].psd_cal, delta_k=oap[j].delta_k, \n",
    "                             k_tgt_lim=[bw_beam, kmax], \n",
    "                             print_rms=False)\n",
    "    print('RMS (beam, on-axis): {0:.3f}'.format(rms_val))\n",
    "    rms_beam_opd = rms_val * angle_scale\n",
    "    print('RMS (beam, refl. angle): {0:.3f}'.format(rms_beam_opd))\n",
    "    tot_rms_beam += rms_beam_opd\n",
    "    # calculate DM rms\n",
    "    rms_dm_val = psd.do_psd_rms(psd_data=oap[j].psd_cal, delta_k=oap[j].delta_k,\n",
    "                               k_tgt_lim=[bw_dm, kmax], \n",
    "                               print_rms=False)\n",
    "    print('RMS (DM, on-axis): {0:.3f}'.format(rms_dm_val))\n",
    "    rms_dm_opd = rms_dm_val * angle_scale\n",
    "    print('RMS (DM, refl. angle): {0:.3f}'.format(rms_dm_opd))\n",
    "    tot_rms_dm += rms_dm_opd\n",
    "    print('-----')\n",
    "\n",
    "# Calculate the strehl\n",
    "tot_rms_beam += rms_bmc1k\n",
    "print('RMS tot (beam) = {0:.4f}'.format(tot_rms_beam))\n",
    "sr_beam = calc_strehl(tot_rms_beam, wavelen)\n",
    "print('SR (beam) = {0:.4f}'.format(sr_beam))\n",
    "print('--')\n",
    "tot_rms_dm += rms_bmc1k\n",
    "print('RMS tot (DM) = {0:.4f}'.format(tot_rms_dm))\n",
    "sr_dm = calc_strehl(tot_rms_dm, wavelen)\n",
    "print('SR (DM) = {0:.4f}'.format(sr_dm))"
   ]
  },
  {
   "cell_type": "markdown",
   "metadata": {},
   "source": [
    "Out of pure curiousity, how does it look like with the average OAP?"
   ]
  },
  {
   "cell_type": "code",
   "execution_count": 10,
   "metadata": {},
   "outputs": [
    {
     "name": "stdout",
     "output_type": "stream",
     "text": [
      "PSD for OAP AVG complete\n"
     ]
    }
   ],
   "source": [
    "# calculate the average PSD.\n",
    "# The average PSD is calculated by averaging all the normalized PSDs, then mulitply by average variance.\n",
    "avg_var = np.mean([obj.var.value for obj in oap])*oap[0].var.unit\n",
    "avg_psd = np.zeros_like(oap[0].psd_cal.value)\n",
    "for n in range(0, len(oap_labels)):\n",
    "    avg_psd += oap[n].psd_norm.value\n",
    "avg_psd /= len(oap_labels)\n",
    "avg_psd = avg_psd * avg_var.value * oap[0].psd_cal.unit\n",
    "print('PSD for OAP AVG complete')"
   ]
  },
  {
   "cell_type": "code",
   "execution_count": 12,
   "metadata": {},
   "outputs": [
    {
     "name": "stdout",
     "output_type": "stream",
     "text": [
      "optic: OAP AVG\n",
      "RMS (CA): 21.827 nm\n",
      "--\n",
      "RMS (beam, on-axis): 11.661 nm\n",
      "RMS (beam, refl. angle): 23.801 nm\n",
      "RMS tot (beam, refl. angle) = 145.8041 nm\n",
      "SR (beam, refl. angle) = 0.1231\n",
      "--\n",
      "RMS (DM, on-axis): 1.960 nm\n",
      "RMS (DM, refl. angle): 4.001 nm\n",
      "RMS tot (DM, refl. angle) = 27.0066 nm\n",
      "SR (DM, refl. angle) = 0.9307\n"
     ]
    }
   ],
   "source": [
    "kmax = oap[0].k_max\n",
    "print('optic: OAP AVG')\n",
    "avg_rms = psd.do_psd_rms(psd_data=avg_psd, delta_k=oap[0].delta_k, \n",
    "                         k_tgt_lim=(oap[0].k_min, oap[0].k_max), print_rms=False)\n",
    "print('RMS (CA): {0:.3f}'.format(avg_rms))\n",
    "print('--')\n",
    "avg_beam_rms = psd.do_psd_rms(psd_data=avg_psd, delta_k=oap[0].delta_k, \n",
    "                         k_tgt_lim=(bw_beam, oap[0].k_max), print_rms=False)\n",
    "print('RMS (beam, on-axis): {0:.3f}'.format(avg_beam_rms))\n",
    "avg_beam_rms_opd = avg_beam_rms * angle_scale\n",
    "print('RMS (beam, refl. angle): {0:.3f}'.format(avg_beam_rms_opd))\n",
    "# Calculate the strehl\n",
    "avg_tot_rms_beam = (avg_beam_rms_opd*len(oap)) + rms_bmc1k\n",
    "print('RMS tot (beam, refl. angle) = {0:.4f}'.format(avg_tot_rms_beam))\n",
    "sr_beam = calc_strehl(avg_tot_rms_beam, wavelen)\n",
    "print('SR (beam, refl. angle) = {0:.4f}'.format(sr_beam))\n",
    "print('--')\n",
    "\n",
    "avg_dm_rms = psd.do_psd_rms(psd_data=avg_psd, delta_k=oap[0].delta_k, \n",
    "                         k_tgt_lim=(bw_dm, oap[0].k_max), print_rms=False)\n",
    "print('RMS (DM, on-axis): {0:.3f}'.format(avg_dm_rms))\n",
    "avg_dm_rms_opd = avg_dm_rms * angle_scale\n",
    "print('RMS (DM, refl. angle): {0:.3f}'.format(avg_dm_rms_opd))\n",
    "# Calculate the strehl\n",
    "avg_tot_rms_dm = (avg_dm_rms_opd*len(oap)) + rms_bmc1k\n",
    "print('RMS tot (DM, refl. angle) = {0:.4f}'.format(avg_tot_rms_dm))\n",
    "sr_dm = calc_strehl(avg_tot_rms_dm, wavelen)\n",
    "print('SR (DM, refl. angle) = {0:.4f}'.format(sr_dm))"
   ]
  },
  {
   "cell_type": "markdown",
   "metadata": {},
   "source": [
    "Good to see that using the average PSD still matches closely with the original calculation."
   ]
  }
 ],
 "metadata": {
  "kernelspec": {
   "display_name": "Python 3",
   "language": "python",
   "name": "python3"
  },
  "language_info": {
   "codemirror_mode": {
    "name": "ipython",
    "version": 3
   },
   "file_extension": ".py",
   "mimetype": "text/x-python",
   "name": "python",
   "nbconvert_exporter": "python",
   "pygments_lexer": "ipython3",
   "version": "3.7.4"
  }
 },
 "nbformat": 4,
 "nbformat_minor": 4
}
